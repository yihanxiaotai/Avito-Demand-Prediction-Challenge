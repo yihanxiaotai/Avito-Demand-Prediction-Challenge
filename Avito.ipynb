{
 "cells": [
  {
   "cell_type": "code",
   "execution_count": 3,
   "metadata": {},
   "outputs": [
    {
     "name": "stdout",
     "output_type": "stream",
     "text": [
      "CPU times: user 170 ms, sys: 23 ms, total: 193 ms\n",
      "Wall time: 512 ms\n"
     ]
    }
   ],
   "source": [
    "%%time\n",
    "# Based on this wonderful notebook by Peter - https://www.kaggle.com/peterhurford/lgb-and-fm-18th-place-0-40604\n",
    "import time\n",
    "start_time = time.time()\n",
    "\n",
    "# Use SUBMIT_MODE = False to tune your script!\n",
    "# Use SUBMIT_MODE = True to generate a submission for Kaggle.\n",
    "SUBMIT_MODE = True\n",
    "\n",
    "import pandas as pd\n",
    "import numpy as np\n",
    "import time\n",
    "import gc\n",
    "import string\n",
    "import re\n",
    "\n",
    "from nltk.corpus import stopwords\n",
    "\n",
    "from scipy.sparse import csr_matrix, hstack\n",
    "from sklearn.feature_extraction.text import TfidfVectorizer\n",
    "from sklearn.feature_selection.univariate_selection import SelectKBest, f_regression\n",
    "from sklearn.preprocessing import LabelBinarizer\n",
    "\n",
    "import wordbatch\n",
    "from wordbatch.extractors import WordBag\n",
    "from wordbatch.models import FM_FTRL\n",
    "\n",
    "from sklearn.model_selection import train_test_split\n",
    "from sklearn.linear_model import Ridge\n",
    "from sklearn.naive_bayes import MultinomialNB\n",
    "import lightgbm as lgb\n",
    "\n",
    "# Viz\n",
    "import seaborn as sns\n",
    "import matplotlib.pyplot as plt\n",
    "\n",
    "def rmse(predicted, actual):\n",
    "    return np.sqrt(((predicted - actual) ** 2).mean())"
   ]
  },
  {
   "cell_type": "code",
   "execution_count": 4,
   "metadata": {},
   "outputs": [
    {
     "name": "stdout",
     "output_type": "stream",
     "text": [
      "CPU times: user 42 µs, sys: 0 ns, total: 42 µs\n",
      "Wall time: 45.5 µs\n"
     ]
    }
   ],
   "source": [
    "%%time\n",
    "\n",
    "class TargetEncoder:\n",
    "    # Adapted from https://www.kaggle.com/ogrellier/python-target-encoding-for-categorical-features\n",
    "    def __repr__(self):\n",
    "        return 'TargetEncoder'\n",
    "\n",
    "    def __init__(self, cols, smoothing=1, min_samples_leaf=1, noise_level=0, keep_original=False):\n",
    "        self.cols = cols\n",
    "        self.smoothing = smoothing\n",
    "        self.min_samples_leaf = min_samples_leaf\n",
    "        self.noise_level = noise_level\n",
    "        self.keep_original = keep_original\n",
    "\n",
    "    @staticmethod\n",
    "    def add_noise(series, noise_level):\n",
    "        return series * (1 + noise_level * np.random.randn(len(series)))\n",
    "\n",
    "    def encode(self, train, test, target):\n",
    "        for col in self.cols:\n",
    "            if self.keep_original:\n",
    "                train[col + '_te'], test[col + '_te'] = self.encode_column(train[col], test[col], target)\n",
    "            else:\n",
    "                train[col], test[col] = self.encode_column(train[col], test[col], target)\n",
    "        return train, test\n",
    "\n",
    "    def encode_column(self, trn_series, tst_series, target):\n",
    "        temp = pd.concat([trn_series, target], axis=1)\n",
    "        # Compute target mean\n",
    "        averages = temp.groupby(by=trn_series.name)[target.name].agg([\"mean\", \"count\"])\n",
    "        # Compute smoothing\n",
    "        smoothing = 1 / (1 + np.exp(-(averages[\"count\"] - self.min_samples_leaf) / self.smoothing))\n",
    "        # Apply average function to all target data\n",
    "        prior = target.mean()\n",
    "        # The bigger the count the less full_avg is taken into account\n",
    "        averages[target.name] = prior * (1 - smoothing) + averages[\"mean\"] * smoothing\n",
    "        averages.drop(['mean', 'count'], axis=1, inplace=True)\n",
    "        # Apply averages to trn and tst series\n",
    "        ft_trn_series = pd.merge(\n",
    "            trn_series.to_frame(trn_series.name),\n",
    "            averages.reset_index().rename(columns={'index': target.name, target.name: 'average'}),\n",
    "            on=trn_series.name,\n",
    "            how='left')['average'].rename(trn_series.name + '_mean').fillna(prior)\n",
    "        # pd.merge does not keep the index so restore it\n",
    "        ft_trn_series.index = trn_series.index\n",
    "        ft_tst_series = pd.merge(\n",
    "            tst_series.to_frame(tst_series.name),\n",
    "            averages.reset_index().rename(columns={'index': target.name, target.name: 'average'}),\n",
    "            on=tst_series.name,\n",
    "            how='left')['average'].rename(trn_series.name + '_mean').fillna(prior)\n",
    "        # pd.merge does not keep the index so restore it\n",
    "        ft_tst_series.index = tst_series.index\n",
    "        return self.add_noise(ft_trn_series, self.noise_level), self.add_noise(ft_tst_series, self.noise_level)"
   ]
  },
  {
   "cell_type": "code",
   "execution_count": 9,
   "metadata": {},
   "outputs": [
    {
     "name": "stdout",
     "output_type": "stream",
     "text": [
      "CPU times: user 2.13 ms, sys: 292 µs, total: 2.42 ms\n",
      "Wall time: 1.63 ms\n"
     ]
    }
   ],
   "source": [
    "%%time\n",
    "# Define helpers for text normalization\n",
    "stopwords = {x: 1 for x in stopwords.words('russian')}\n",
    "non_alphanums = re.compile(u'[^A-Za-z0-9]+')\n",
    "non_alphanumpunct = re.compile(u'[^A-Za-z0-9\\.?!,; \\(\\)\\[\\]\\'\\\"\\$]+')\n",
    "RE_PUNCTUATION = '|'.join([re.escape(x) for x in string.punctuation])"
   ]
  },
  {
   "cell_type": "code",
   "execution_count": 10,
   "metadata": {},
   "outputs": [
    {
     "name": "stdout",
     "output_type": "stream",
     "text": [
      "[1303.6727406978607] Finished load data\n",
      "CPU times: user 19.7 s, sys: 1.45 s, total: 21.2 s\n",
      "Wall time: 22 s\n"
     ]
    }
   ],
   "source": [
    "\n",
    "\n",
    "%%time\n",
    "train = pd.read_csv('~/.kaggle/competitions/avito-demand-prediction/train.csv', index_col = \"item_id\", parse_dates = [\"activation_date\"])\n",
    "test = pd.read_csv('~/.kaggle/competitions/avito-demand-prediction/test.csv', index_col = \"item_id\", parse_dates = [\"activation_date\"])\n",
    "print('[{}] Finished load data'.format(time.time() - start_time))"
   ]
  },
  {
   "cell_type": "code",
   "execution_count": 11,
   "metadata": {},
   "outputs": [
    {
     "name": "stdout",
     "output_type": "stream",
     "text": [
      "Кокон для сна малыша,пользовались меньше месяца.цвет серый\n",
      "кокон сна малыша пользовались меньше месяца цвет серый\n",
      "CPU times: user 497 ms, sys: 2.94 ms, total: 499 ms\n",
      "Wall time: 511 ms\n"
     ]
    }
   ],
   "source": [
    "%%time\n",
    "import string\n",
    "\n",
    "def normalize_text(text):\n",
    "    text = text.lower().strip()\n",
    "    for s in string.punctuation:\n",
    "        text = text.replace(s, ' ')\n",
    "    text = text.strip().split(' ')\n",
    "    return u' '.join(x for x in text if len(x) > 1 and x not in stopwords)\n",
    "\n",
    "print(train.description[0])\n",
    "print(normalize_text(train.description[0]))"
   ]
  },
  {
   "cell_type": "code",
   "execution_count": 12,
   "metadata": {},
   "outputs": [
    {
     "name": "stdout",
     "output_type": "stream",
     "text": [
      "[3500.31697678566] Compiled train / test\n",
      "Train shape:  (1503424, 18)\n",
      "Test shape:  (508438, 17)\n",
      "[3501.2301795482635] Compiled merge\n",
      "Merge shape:  (2011862, 18)\n",
      "[3501.4163954257965] Garbage collection\n",
      "CPU times: user 816 ms, sys: 273 ms, total: 1.09 s\n",
      "Wall time: 1.1 s\n"
     ]
    }
   ],
   "source": [
    "%%time\n",
    "train['is_train'] = 1\n",
    "test['is_train'] = 0\n",
    "print('[{}] Compiled train / test'.format(time.time() - start_time))\n",
    "print('Train shape: ', train.shape)\n",
    "print('Test shape: ', test.shape)\n",
    "\n",
    "y = train.deal_probability.copy()\n",
    "nrow_train = train.shape[0]\n",
    "\n",
    "merge = pd.concat([train, test])\n",
    "submission = pd.DataFrame(test.index)\n",
    "print('[{}] Compiled merge'.format(time.time() - start_time))\n",
    "print('Merge shape: ', merge.shape)\n",
    "\n",
    "del train\n",
    "del test\n",
    "gc.collect()\n",
    "print('[{}] Garbage collection'.format(time.time() - start_time))"
   ]
  },
  {
   "cell_type": "code",
   "execution_count": 13,
   "metadata": {},
   "outputs": [
    {
     "name": "stdout",
     "output_type": "stream",
     "text": [
      "Feature Engineering - Part 1\n",
      "\n",
      "Create Time Variables\n",
      "             activation_date               category_name              city  \\\n",
      "item_id                                                                      \n",
      "b912c3c6a6ad      2017-03-28  Товары для детей и игрушки      Екатеринбург   \n",
      "2dac0150717d      2017-03-26           Мебель и интерьер            Самара   \n",
      "ba83aefab5dc      2017-03-20               Аудио и видео    Ростов-на-Дону   \n",
      "02996f1dd2ea      2017-03-25  Товары для детей и игрушки  Набережные Челны   \n",
      "7c90be56d2ab      2017-03-16                  Автомобили         Волгоград   \n",
      "\n",
      "              deal_probability  \\\n",
      "item_id                          \n",
      "b912c3c6a6ad           0.12789   \n",
      "2dac0150717d           0.00000   \n",
      "ba83aefab5dc           0.43177   \n",
      "02996f1dd2ea           0.80323   \n",
      "7c90be56d2ab           0.20797   \n",
      "\n",
      "                                                    description  \\\n",
      "item_id                                                           \n",
      "b912c3c6a6ad  Кокон для сна малыша,пользовались меньше месяц...   \n",
      "2dac0150717d          Стойка для одежды, под вешалки. С бутика.   \n",
      "ba83aefab5dc  В хорошем состоянии, домашний кинотеатр с blu ...   \n",
      "02996f1dd2ea                             Продам кресло от0-25кг   \n",
      "7c90be56d2ab                           Все вопросы по телефону.   \n",
      "\n",
      "                                                          image  image_top_1  \\\n",
      "item_id                                                                        \n",
      "b912c3c6a6ad  d10c7e016e03247a3bf2d13348fe959fe6f436c1caf64c...       1008.0   \n",
      "2dac0150717d  79c9392cc51a9c81c6eb91eceb8e552171db39d7142700...        692.0   \n",
      "ba83aefab5dc  b7f250ee3f39e1fedd77c141f273703f4a9be59db4b48a...       3032.0   \n",
      "02996f1dd2ea  e6ef97e0725637ea84e3d203e82dadb43ed3cc0a1c8413...        796.0   \n",
      "7c90be56d2ab  54a687a3a0fc1d68aed99bdaaf551c5c70b761b16fd0a2...       2264.0   \n",
      "\n",
      "              is_train  item_seq_number                      param_1  \\\n",
      "item_id                                                                \n",
      "b912c3c6a6ad         1                2    Постельные принадлежности   \n",
      "2dac0150717d         1               19                       Другое   \n",
      "ba83aefab5dc         1                9  Видео, DVD и Blu-ray плееры   \n",
      "02996f1dd2ea         1              286         Автомобильные кресла   \n",
      "7c90be56d2ab         1                3                   С пробегом   \n",
      "\n",
      "                 param_2 param_3 parent_category_name      price  \\\n",
      "item_id                                                            \n",
      "b912c3c6a6ad         NaN     NaN          Личные вещи   5.991467   \n",
      "2dac0150717d         NaN     NaN      Для дома и дачи   8.006368   \n",
      "ba83aefab5dc         NaN     NaN  Бытовая электроника   8.294050   \n",
      "02996f1dd2ea         NaN     NaN          Личные вещи   7.696213   \n",
      "7c90be56d2ab  ВАЗ (LADA)    2110            Транспорт  10.596635   \n",
      "\n",
      "                             region                  title       user_id  \\\n",
      "item_id                                                                    \n",
      "b912c3c6a6ad   Свердловская область  Кокоби(кокон для сна)  e00f8ff2eaf9   \n",
      "2dac0150717d      Самарская область      Стойка для Одежды  39aeb48f0017   \n",
      "ba83aefab5dc     Ростовская область         Philips bluray  91e2f88dd6e3   \n",
      "02996f1dd2ea              Татарстан             Автокресло  bf5cccea572d   \n",
      "7c90be56d2ab  Волгоградская область         ВАЗ 2110, 2003  ef50846afc0b   \n",
      "\n",
      "             user_type  activation_weekday  \n",
      "item_id                                     \n",
      "b912c3c6a6ad   Private                   1  \n",
      "2dac0150717d   Private                   6  \n",
      "ba83aefab5dc   Private                   0  \n",
      "02996f1dd2ea   Company                   5  \n",
      "7c90be56d2ab   Private                   3  \n",
      "CPU times: user 258 ms, sys: 63.3 ms, total: 321 ms\n",
      "Wall time: 479 ms\n"
     ]
    }
   ],
   "source": [
    "%%time\n",
    "print(\"Feature Engineering - Part 1\")\n",
    "merge[\"price\"] = np.log(merge[\"price\"]+0.001)\n",
    "merge[\"price\"].fillna(-999,inplace=True)\n",
    "merge[\"image_top_1\"].fillna(-999,inplace=True)\n",
    "\n",
    "print(\"\\nCreate Time Variables\")\n",
    "merge[\"activation_weekday\"] = merge['activation_date'].dt.weekday\n",
    "print(merge.head(5))\n",
    "gc.collect()"
   ]
  },
  {
   "cell_type": "code",
   "execution_count": 14,
   "metadata": {},
   "outputs": [
    {
     "name": "stdout",
     "output_type": "stream",
     "text": [
      "CPU times: user 1.68 s, sys: 839 ms, total: 2.51 s\n",
      "Wall time: 2.53 s\n"
     ]
    }
   ],
   "source": [
    "%%time\n",
    "# Create Validation Index and Remove Dead Variables\n",
    "training_index = merge.loc[merge.activation_date<=pd.to_datetime('2017-04-07')].index\n",
    "validation_index = merge.loc[merge.activation_date>=pd.to_datetime('2017-04-08')].index\n",
    "merge.drop([\"activation_date\",\"image\"],axis=1,inplace=True)\n",
    "\n",
    "#Drop user_id\n",
    "merge.drop([\"user_id\"], axis=1,inplace=True)"
   ]
  },
  {
   "cell_type": "code",
   "execution_count": 15,
   "metadata": {},
   "outputs": [
    {
     "name": "stdout",
     "output_type": "stream",
     "text": [
      "\n",
      "Text Features\n",
      "CPU times: user 1min 42s, sys: 1.22 s, total: 1min 43s\n",
      "Wall time: 1min 43s\n"
     ]
    }
   ],
   "source": [
    "%%time\n",
    "\n",
    "# Meta Text Features\n",
    "print(\"\\nText Features\")\n",
    "textfeats = [\"description\", \"title\"]\n",
    "\n",
    "for cols in textfeats:\n",
    "    merge[cols] = merge[cols].astype(str) \n",
    "    merge[cols] = merge[cols].astype(str).fillna('missing') # FILL NA\n",
    "    merge[cols] = merge[cols].str.lower() # Lowercase all text, so that capitalized words dont get treated differently\n",
    "    merge[cols + '_num_stopwords'] = merge[cols].apply(lambda x: len([w for w in x.split() if w in stopwords])) # Count number of Stopwords\n",
    "    merge[cols + '_num_punctuations'] = merge[cols].apply(lambda comment: (comment.count(RE_PUNCTUATION))) # Count number of Punctuations\n",
    "    merge[cols + '_num_alphabets'] = merge[cols].apply(lambda comment: len([c for c in comment if c.isupper()])) # Count number of Alphabets\n",
    "    merge[cols + '_num_digits'] = merge[cols].apply(lambda comment: (comment.count('[0-9]'))) # Count number of Digits\n",
    "    merge[cols + '_num_letters'] = merge[cols].apply(lambda comment: len(comment)) # Count number of Letters\n",
    "    merge[cols + '_num_words'] = merge[cols].apply(lambda comment: len(comment.split())) # Count number of Words\n",
    "    merge[cols + '_num_unique_words'] = merge[cols].apply(lambda comment: len(set(w for w in comment.split())))\n",
    "    merge[cols + '_words_vs_unique'] = merge[cols+'_num_unique_words'] / merge[cols+'_num_words'] # Count Unique Words\n",
    "    merge[cols + '_letters_per_word'] = merge[cols+'_num_letters'] / merge[cols+'_num_words'] # Letters per Word\n",
    "    merge[cols + '_punctuations_by_letters'] = merge[cols+'_num_punctuations'] / merge[cols+'_num_letters'] # Punctuations by Letters\n",
    "    merge[cols + '_punctuations_by_words'] = merge[cols+'_num_punctuations'] / merge[cols+'_num_words'] # Punctuations by Words\n",
    "    merge[cols + '_digits_by_letters'] = merge[cols+'_num_digits'] / merge[cols+'_num_letters'] # Digits by Letters\n",
    "    merge[cols + '_alphabets_by_letters'] = merge[cols+'_num_alphabets'] / merge[cols+'_num_letters'] # Alphabets by Letters\n",
    "    merge[cols + '_stopwords_by_words'] = merge[cols+'_num_stopwords'] / merge[cols+'_num_words'] # Stopwords by Letters\n",
    "    merge[cols + '_mean'] = merge[cols].apply(lambda x: 0 if len(x) == 0 else float(len(x.split())) / len(x)) * 10 # Mean\n",
    "\n",
    "# Extra Feature Engineering\n",
    "merge['title_desc_len_ratio'] = merge['title_num_letters']/merge['description_num_letters']"
   ]
  },
  {
   "cell_type": "code",
   "execution_count": 16,
   "metadata": {},
   "outputs": [
    {
     "data": {
      "text/html": [
       "<div>\n",
       "<style scoped>\n",
       "    .dataframe tbody tr th:only-of-type {\n",
       "        vertical-align: middle;\n",
       "    }\n",
       "\n",
       "    .dataframe tbody tr th {\n",
       "        vertical-align: top;\n",
       "    }\n",
       "\n",
       "    .dataframe thead th {\n",
       "        text-align: right;\n",
       "    }\n",
       "</style>\n",
       "<table border=\"1\" class=\"dataframe\">\n",
       "  <thead>\n",
       "    <tr style=\"text-align: right;\">\n",
       "      <th></th>\n",
       "      <th>category_name</th>\n",
       "      <th>city</th>\n",
       "      <th>deal_probability</th>\n",
       "      <th>description</th>\n",
       "      <th>image_top_1</th>\n",
       "      <th>is_train</th>\n",
       "      <th>item_seq_number</th>\n",
       "      <th>param_1</th>\n",
       "      <th>param_2</th>\n",
       "      <th>param_3</th>\n",
       "      <th>...</th>\n",
       "      <th>title_num_unique_words</th>\n",
       "      <th>title_words_vs_unique</th>\n",
       "      <th>title_letters_per_word</th>\n",
       "      <th>title_punctuations_by_letters</th>\n",
       "      <th>title_punctuations_by_words</th>\n",
       "      <th>title_digits_by_letters</th>\n",
       "      <th>title_alphabets_by_letters</th>\n",
       "      <th>title_stopwords_by_words</th>\n",
       "      <th>title_mean</th>\n",
       "      <th>title_desc_len_ratio</th>\n",
       "    </tr>\n",
       "    <tr>\n",
       "      <th>item_id</th>\n",
       "      <th></th>\n",
       "      <th></th>\n",
       "      <th></th>\n",
       "      <th></th>\n",
       "      <th></th>\n",
       "      <th></th>\n",
       "      <th></th>\n",
       "      <th></th>\n",
       "      <th></th>\n",
       "      <th></th>\n",
       "      <th></th>\n",
       "      <th></th>\n",
       "      <th></th>\n",
       "      <th></th>\n",
       "      <th></th>\n",
       "      <th></th>\n",
       "      <th></th>\n",
       "      <th></th>\n",
       "      <th></th>\n",
       "      <th></th>\n",
       "      <th></th>\n",
       "    </tr>\n",
       "  </thead>\n",
       "  <tbody>\n",
       "    <tr>\n",
       "      <th>b912c3c6a6ad</th>\n",
       "      <td>Товары для детей и игрушки</td>\n",
       "      <td>Екатеринбург</td>\n",
       "      <td>0.12789</td>\n",
       "      <td>кокон для сна малыша,пользовались меньше месяц...</td>\n",
       "      <td>1008.0</td>\n",
       "      <td>1</td>\n",
       "      <td>2</td>\n",
       "      <td>Постельные принадлежности</td>\n",
       "      <td>NaN</td>\n",
       "      <td>NaN</td>\n",
       "      <td>...</td>\n",
       "      <td>3</td>\n",
       "      <td>1.0</td>\n",
       "      <td>7.000000</td>\n",
       "      <td>0.0</td>\n",
       "      <td>0.0</td>\n",
       "      <td>0.0</td>\n",
       "      <td>0.0</td>\n",
       "      <td>0.333333</td>\n",
       "      <td>1.428571</td>\n",
       "      <td>0.362069</td>\n",
       "    </tr>\n",
       "    <tr>\n",
       "      <th>2dac0150717d</th>\n",
       "      <td>Мебель и интерьер</td>\n",
       "      <td>Самара</td>\n",
       "      <td>0.00000</td>\n",
       "      <td>стойка для одежды, под вешалки. с бутика.</td>\n",
       "      <td>692.0</td>\n",
       "      <td>1</td>\n",
       "      <td>19</td>\n",
       "      <td>Другое</td>\n",
       "      <td>NaN</td>\n",
       "      <td>NaN</td>\n",
       "      <td>...</td>\n",
       "      <td>3</td>\n",
       "      <td>1.0</td>\n",
       "      <td>5.666667</td>\n",
       "      <td>0.0</td>\n",
       "      <td>0.0</td>\n",
       "      <td>0.0</td>\n",
       "      <td>0.0</td>\n",
       "      <td>0.333333</td>\n",
       "      <td>1.764706</td>\n",
       "      <td>0.414634</td>\n",
       "    </tr>\n",
       "    <tr>\n",
       "      <th>ba83aefab5dc</th>\n",
       "      <td>Аудио и видео</td>\n",
       "      <td>Ростов-на-Дону</td>\n",
       "      <td>0.43177</td>\n",
       "      <td>в хорошем состоянии, домашний кинотеатр с blu ...</td>\n",
       "      <td>3032.0</td>\n",
       "      <td>1</td>\n",
       "      <td>9</td>\n",
       "      <td>Видео, DVD и Blu-ray плееры</td>\n",
       "      <td>NaN</td>\n",
       "      <td>NaN</td>\n",
       "      <td>...</td>\n",
       "      <td>2</td>\n",
       "      <td>1.0</td>\n",
       "      <td>7.000000</td>\n",
       "      <td>0.0</td>\n",
       "      <td>0.0</td>\n",
       "      <td>0.0</td>\n",
       "      <td>0.0</td>\n",
       "      <td>0.000000</td>\n",
       "      <td>1.428571</td>\n",
       "      <td>0.141414</td>\n",
       "    </tr>\n",
       "    <tr>\n",
       "      <th>02996f1dd2ea</th>\n",
       "      <td>Товары для детей и игрушки</td>\n",
       "      <td>Набережные Челны</td>\n",
       "      <td>0.80323</td>\n",
       "      <td>продам кресло от0-25кг</td>\n",
       "      <td>796.0</td>\n",
       "      <td>1</td>\n",
       "      <td>286</td>\n",
       "      <td>Автомобильные кресла</td>\n",
       "      <td>NaN</td>\n",
       "      <td>NaN</td>\n",
       "      <td>...</td>\n",
       "      <td>1</td>\n",
       "      <td>1.0</td>\n",
       "      <td>10.000000</td>\n",
       "      <td>0.0</td>\n",
       "      <td>0.0</td>\n",
       "      <td>0.0</td>\n",
       "      <td>0.0</td>\n",
       "      <td>0.000000</td>\n",
       "      <td>1.000000</td>\n",
       "      <td>0.454545</td>\n",
       "    </tr>\n",
       "    <tr>\n",
       "      <th>7c90be56d2ab</th>\n",
       "      <td>Автомобили</td>\n",
       "      <td>Волгоград</td>\n",
       "      <td>0.20797</td>\n",
       "      <td>все вопросы по телефону.</td>\n",
       "      <td>2264.0</td>\n",
       "      <td>1</td>\n",
       "      <td>3</td>\n",
       "      <td>С пробегом</td>\n",
       "      <td>ВАЗ (LADA)</td>\n",
       "      <td>2110</td>\n",
       "      <td>...</td>\n",
       "      <td>3</td>\n",
       "      <td>1.0</td>\n",
       "      <td>4.666667</td>\n",
       "      <td>0.0</td>\n",
       "      <td>0.0</td>\n",
       "      <td>0.0</td>\n",
       "      <td>0.0</td>\n",
       "      <td>0.000000</td>\n",
       "      <td>2.142857</td>\n",
       "      <td>0.583333</td>\n",
       "    </tr>\n",
       "  </tbody>\n",
       "</table>\n",
       "<p>5 rows × 47 columns</p>\n",
       "</div>"
      ],
      "text/plain": [
       "                           category_name              city  deal_probability  \\\n",
       "item_id                                                                        \n",
       "b912c3c6a6ad  Товары для детей и игрушки      Екатеринбург           0.12789   \n",
       "2dac0150717d           Мебель и интерьер            Самара           0.00000   \n",
       "ba83aefab5dc               Аудио и видео    Ростов-на-Дону           0.43177   \n",
       "02996f1dd2ea  Товары для детей и игрушки  Набережные Челны           0.80323   \n",
       "7c90be56d2ab                  Автомобили         Волгоград           0.20797   \n",
       "\n",
       "                                                    description  image_top_1  \\\n",
       "item_id                                                                        \n",
       "b912c3c6a6ad  кокон для сна малыша,пользовались меньше месяц...       1008.0   \n",
       "2dac0150717d          стойка для одежды, под вешалки. с бутика.        692.0   \n",
       "ba83aefab5dc  в хорошем состоянии, домашний кинотеатр с blu ...       3032.0   \n",
       "02996f1dd2ea                             продам кресло от0-25кг        796.0   \n",
       "7c90be56d2ab                           все вопросы по телефону.       2264.0   \n",
       "\n",
       "              is_train  item_seq_number                      param_1  \\\n",
       "item_id                                                                \n",
       "b912c3c6a6ad         1                2    Постельные принадлежности   \n",
       "2dac0150717d         1               19                       Другое   \n",
       "ba83aefab5dc         1                9  Видео, DVD и Blu-ray плееры   \n",
       "02996f1dd2ea         1              286         Автомобильные кресла   \n",
       "7c90be56d2ab         1                3                   С пробегом   \n",
       "\n",
       "                 param_2 param_3          ...          title_num_unique_words  \\\n",
       "item_id                                   ...                                   \n",
       "b912c3c6a6ad         NaN     NaN          ...                               3   \n",
       "2dac0150717d         NaN     NaN          ...                               3   \n",
       "ba83aefab5dc         NaN     NaN          ...                               2   \n",
       "02996f1dd2ea         NaN     NaN          ...                               1   \n",
       "7c90be56d2ab  ВАЗ (LADA)    2110          ...                               3   \n",
       "\n",
       "              title_words_vs_unique title_letters_per_word  \\\n",
       "item_id                                                      \n",
       "b912c3c6a6ad                    1.0               7.000000   \n",
       "2dac0150717d                    1.0               5.666667   \n",
       "ba83aefab5dc                    1.0               7.000000   \n",
       "02996f1dd2ea                    1.0              10.000000   \n",
       "7c90be56d2ab                    1.0               4.666667   \n",
       "\n",
       "             title_punctuations_by_letters title_punctuations_by_words  \\\n",
       "item_id                                                                  \n",
       "b912c3c6a6ad                           0.0                         0.0   \n",
       "2dac0150717d                           0.0                         0.0   \n",
       "ba83aefab5dc                           0.0                         0.0   \n",
       "02996f1dd2ea                           0.0                         0.0   \n",
       "7c90be56d2ab                           0.0                         0.0   \n",
       "\n",
       "              title_digits_by_letters  title_alphabets_by_letters  \\\n",
       "item_id                                                             \n",
       "b912c3c6a6ad                      0.0                         0.0   \n",
       "2dac0150717d                      0.0                         0.0   \n",
       "ba83aefab5dc                      0.0                         0.0   \n",
       "02996f1dd2ea                      0.0                         0.0   \n",
       "7c90be56d2ab                      0.0                         0.0   \n",
       "\n",
       "              title_stopwords_by_words  title_mean  title_desc_len_ratio  \n",
       "item_id                                                                   \n",
       "b912c3c6a6ad                  0.333333    1.428571              0.362069  \n",
       "2dac0150717d                  0.333333    1.764706              0.414634  \n",
       "ba83aefab5dc                  0.000000    1.428571              0.141414  \n",
       "02996f1dd2ea                  0.000000    1.000000              0.454545  \n",
       "7c90be56d2ab                  0.000000    2.142857              0.583333  \n",
       "\n",
       "[5 rows x 47 columns]"
      ]
     },
     "execution_count": 16,
     "metadata": {},
     "output_type": "execute_result"
    }
   ],
   "source": [
    "merge.head()"
   ]
  },
  {
   "cell_type": "code",
   "execution_count": 17,
   "metadata": {},
   "outputs": [
    {
     "name": "stdout",
     "output_type": "stream",
     "text": [
      "(1503424, 46)\n",
      "(1503424,)\n",
      "[3738.032951593399] Splitting completed.\n",
      "CPU times: user 987 ms, sys: 1.14 s, total: 2.13 s\n",
      "Wall time: 2.13 s\n"
     ]
    }
   ],
   "source": [
    "%%time\n",
    "df_test = merge.loc[merge['is_train'] == 0]\n",
    "df_train = merge.loc[merge['is_train'] == 1]\n",
    "del merge\n",
    "gc.collect()\n",
    "df_test = df_test.drop(['is_train'], axis=1)\n",
    "df_train = df_train.drop(['is_train'], axis=1)\n",
    "\n",
    "print(df_train.shape)\n",
    "print(y.shape)\n",
    "\n",
    "if SUBMIT_MODE:\n",
    "    y_train = y\n",
    "    del y\n",
    "    gc.collect()\n",
    "else:\n",
    "    df_train, df_test, y_train, y_test = train_test_split(df_train, y, test_size=0.2, random_state=144)\n",
    "\n",
    "print('[{}] Splitting completed.'.format(time.time() - start_time))"
   ]
  },
  {
   "cell_type": "code",
   "execution_count": 18,
   "metadata": {},
   "outputs": [
    {
     "name": "stdout",
     "output_type": "stream",
     "text": [
      "Normalize text\n",
      "Extract wordbags\n",
      "(1503424, 536870912)\n",
      "Normalize text\n",
      "Extract wordbags\n",
      "(508438, 536870912)\n",
      "CPU times: user 3.24 s, sys: 3.72 s, total: 6.96 s\n",
      "Wall time: 1min 28s\n"
     ]
    }
   ],
   "source": [
    "%%time\n",
    "wb = wordbatch.WordBatch(normalize_text, extractor=(WordBag, {\"hash_ngrams\": 2,\n",
    "                                                              \"hash_ngrams_weights\": [1.5, 1.0],\n",
    "                                                              \"hash_size\": 2 ** 29,\n",
    "                                                              \"norm\": None,\n",
    "                                                              \"tf\": 'binary',\n",
    "                                                              \"idf\": None,\n",
    "                                                              }), procs=8)\n",
    "wb.dictionary_freeze = True\n",
    "X_name_train = wb.fit_transform(df_train['title'])\n",
    "print(X_name_train.shape)\n",
    "X_name_test = wb.transform(df_test['title'])\n",
    "print(X_name_test.shape)\n",
    "del(wb)\n",
    "gc.collect()"
   ]
  },
  {
   "cell_type": "code",
   "execution_count": 19,
   "metadata": {},
   "outputs": [
    {
     "name": "stdout",
     "output_type": "stream",
     "text": [
      "(1503424, 130898)\n",
      "(508438, 130898)\n",
      "[3916.259336233139] Vectorize `title` completed.\n",
      "CPU times: user 7.9 s, sys: 7.16 s, total: 15.1 s\n",
      "Wall time: 15.1 s\n"
     ]
    }
   ],
   "source": [
    "%%time\n",
    "mask = np.where(X_name_train.getnnz(axis=0) > 3)[0]\n",
    "X_name_train = X_name_train[:, mask]\n",
    "print(X_name_train.shape)\n",
    "X_name_test = X_name_test[:, mask]\n",
    "print(X_name_test.shape)\n",
    "print('[{}] Vectorize `title` completed.'.format(time.time() - start_time))"
   ]
  },
  {
   "cell_type": "code",
   "execution_count": 20,
   "metadata": {},
   "outputs": [
    {
     "name": "stdout",
     "output_type": "stream",
     "text": [
      "[3920.7799084186554] Finished splitting\n",
      "[3937.824908018112] Finished to train name ridge (1)\n",
      "[3937.8556027412415] Finished to predict name ridge (1)\n",
      "[3953.834986925125] Finished to train name ridge (2)\n",
      "[3953.8730533123016] Finished to predict name ridge (2)\n",
      "RMSLE OOF: 0.23861657781071718\n",
      "CPU times: user 33.9 s, sys: 165 ms, total: 34.1 s\n",
      "Wall time: 34 s\n"
     ]
    }
   ],
   "source": [
    "%%time\n",
    "X_train_1, X_train_2, y_train_1, y_train_2 = train_test_split(X_name_train, y_train,\n",
    "                                                              test_size = 0.5,\n",
    "                                                              shuffle = False)\n",
    "print('[{}] Finished splitting'.format(time.time() - start_time))\n",
    "\n",
    "model = Ridge(solver=\"sag\", fit_intercept=True, random_state=42, alpha=5)\n",
    "model.fit(X_train_1, y_train_1)\n",
    "print('[{}] Finished to train name ridge (1)'.format(time.time() - start_time))\n",
    "name_ridge_preds1 = model.predict(X_train_2)\n",
    "name_ridge_preds1f = model.predict(X_name_test)\n",
    "print('[{}] Finished to predict name ridge (1)'.format(time.time() - start_time))\n",
    "model = Ridge(solver=\"sag\", fit_intercept=True, random_state=42, alpha=5)\n",
    "model.fit(X_train_2, y_train_2)\n",
    "print('[{}] Finished to train name ridge (2)'.format(time.time() - start_time))\n",
    "name_ridge_preds2 = model.predict(X_train_1)\n",
    "name_ridge_preds2f = model.predict(X_name_test)\n",
    "print('[{}] Finished to predict name ridge (2)'.format(time.time() - start_time))\n",
    "name_ridge_preds_oof = np.concatenate((name_ridge_preds2, name_ridge_preds1), axis=0)\n",
    "name_ridge_preds_test = (name_ridge_preds1f + name_ridge_preds2f) / 2.0\n",
    "print('RMSLE OOF: {}'.format(rmse(name_ridge_preds_oof, y_train)))\n",
    "if not SUBMIT_MODE:\n",
    "    print('RMSLE TEST: {}'.format(rmse(name_ridge_preds_test, y_test)))\n",
    "gc.collect()"
   ]
  },
  {
   "cell_type": "code",
   "execution_count": 22,
   "metadata": {},
   "outputs": [
    {
     "name": "stdout",
     "output_type": "stream",
     "text": [
      "Normalize text\n",
      "Extract wordbags\n",
      "(1503424, 268435456)\n",
      "Normalize text\n",
      "Extract wordbags\n",
      "(508438, 268435456)\n",
      "-\n",
      "CPU times: user 9.87 s, sys: 11.8 s, total: 21.7 s\n",
      "Wall time: 2min 39s\n"
     ]
    }
   ],
   "source": [
    "%%time\n",
    "wb = wordbatch.WordBatch(normalize_text, extractor=(WordBag, {\"hash_ngrams\": 2,\n",
    "                                                              \"hash_ngrams_weights\": [1.0, 1.0],\n",
    "                                                              \"hash_size\": 2 ** 28,\n",
    "                                                              \"norm\": \"l2\",\n",
    "                                                              \"tf\": 1.0,\n",
    "                                                              \"idf\": None}), procs=8)\n",
    "wb.dictionary_freeze = True\n",
    "X_description_train = wb.fit_transform(df_train['description'].fillna(''))\n",
    "print(X_description_train.shape)\n",
    "X_description_test = wb.transform(df_test['description'].fillna(''))\n",
    "print(X_description_test.shape)\n",
    "print('-')\n",
    "del(wb)\n",
    "gc.collect()"
   ]
  },
  {
   "cell_type": "code",
   "execution_count": 23,
   "metadata": {},
   "outputs": [
    {
     "name": "stdout",
     "output_type": "stream",
     "text": [
      "(1503424, 460202)\n",
      "(508438, 460202)\n",
      "[4456.663789510727] Vectorize `description` completed.\n",
      "CPU times: user 33.7 s, sys: 4.57 s, total: 38.3 s\n",
      "Wall time: 38.3 s\n"
     ]
    }
   ],
   "source": [
    "%%time\n",
    "mask = np.where(X_description_train.getnnz(axis=0) > 8)[0]\n",
    "X_description_train = X_description_train[:, mask]\n",
    "print(X_description_train.shape)\n",
    "X_description_test = X_description_test[:, mask]\n",
    "print(X_description_test.shape)\n",
    "print('[{}] Vectorize `description` completed.'.format(time.time() - start_time))"
   ]
  },
  {
   "cell_type": "code",
   "execution_count": 24,
   "metadata": {},
   "outputs": [
    {
     "name": "stdout",
     "output_type": "stream",
     "text": [
      "[4691.502896785736] Finished splitting\n",
      "[4715.313063621521] Finished to train desc ridge (1)\n",
      "[4715.5176322460175] Finished to predict desc ridge (1)\n",
      "[4739.842818260193] Finished to train desc ridge (2)\n",
      "[4740.040509939194] Finished to predict desc ridge (2)\n",
      "RMSLE OOF: 0.23582078721065589\n"
     ]
    },
    {
     "data": {
      "text/plain": [
       "22"
      ]
     },
     "execution_count": 24,
     "metadata": {},
     "output_type": "execute_result"
    }
   ],
   "source": [
    "X_train_1, X_train_2, y_train_1, y_train_2 = train_test_split(X_description_train, y_train,\n",
    "                                                              test_size = 0.5,\n",
    "                                                              shuffle = False)\n",
    "print('[{}] Finished splitting'.format(time.time() - start_time))\n",
    "\n",
    "# Ridge adapted from https://www.kaggle.com/object/more-effective-ridge-script?scriptVersionId=1851819\n",
    "model = Ridge(solver=\"sag\", fit_intercept=True, random_state=205, alpha=3.3)\n",
    "model.fit(X_train_1, y_train_1)\n",
    "print('[{}] Finished to train desc ridge (1)'.format(time.time() - start_time))\n",
    "desc_ridge_preds1 = model.predict(X_train_2)\n",
    "desc_ridge_preds1f = model.predict(X_description_test)\n",
    "print('[{}] Finished to predict desc ridge (1)'.format(time.time() - start_time))\n",
    "model = Ridge(solver=\"sag\", fit_intercept=True, random_state=205, alpha=3.3)\n",
    "model.fit(X_train_2, y_train_2)\n",
    "print('[{}] Finished to train desc ridge (2)'.format(time.time() - start_time))\n",
    "desc_ridge_preds2 = model.predict(X_train_1)\n",
    "desc_ridge_preds2f = model.predict(X_description_test)\n",
    "print('[{}] Finished to predict desc ridge (2)'.format(time.time() - start_time))\n",
    "desc_ridge_preds_oof = np.concatenate((desc_ridge_preds2, desc_ridge_preds1), axis=0)\n",
    "desc_ridge_preds_test = (desc_ridge_preds1f + desc_ridge_preds2f) / 2.0\n",
    "print('RMSLE OOF: {}'.format(rmse(desc_ridge_preds_oof, y_train)))\n",
    "if not SUBMIT_MODE:\n",
    "    print('RMSLE TEST: {}'.format(rmse(desc_ridge_preds_test, y_test)))\n",
    "gc.collect()"
   ]
  },
  {
   "cell_type": "code",
   "execution_count": 25,
   "metadata": {},
   "outputs": [
    {
     "name": "stdout",
     "output_type": "stream",
     "text": [
      "[5048.224899530411] Finished garbage collection\n"
     ]
    }
   ],
   "source": [
    "del X_train_1\n",
    "del X_train_2\n",
    "del y_train_1\n",
    "del y_train_2\n",
    "del name_ridge_preds1\n",
    "del name_ridge_preds1f\n",
    "del name_ridge_preds2\n",
    "del name_ridge_preds2f\n",
    "del desc_ridge_preds1\n",
    "del desc_ridge_preds1f\n",
    "del desc_ridge_preds2\n",
    "del desc_ridge_preds2f\n",
    "gc.collect()\n",
    "print('[{}] Finished garbage collection'.format(time.time() - start_time))"
   ]
  },
  {
   "cell_type": "code",
   "execution_count": 26,
   "metadata": {},
   "outputs": [
    {
     "name": "stdout",
     "output_type": "stream",
     "text": [
      "Remerged\n",
      "['title_words_vs_unique', 'description_mean', 'title_desc_len_ratio', 'price', 'item_seq_number', 'title_num_words', 'title_alphabets_by_letters', 'description_digits_by_letters', 'title_num_alphabets', 'title_num_stopwords', 'description_punctuations_by_letters', 'title_mean', 'title_digits_by_letters', 'description_num_words', 'title_punctuations_by_letters', 'description_num_stopwords', 'description_punctuations_by_words', 'title_num_letters', 'description_num_alphabets', 'description_num_letters', 'title_num_digits', 'title_num_punctuations', 'description_num_unique_words', 'description_words_vs_unique', 'description_num_digits', 'description_stopwords_by_words', 'title_punctuations_by_words', 'description_num_punctuations', 'description_letters_per_word', 'description_alphabets_by_letters', 'title_num_unique_words', 'title_letters_per_word', 'title_stopwords_by_words']\n",
      "CPU times: user 317 ms, sys: 408 ms, total: 725 ms\n",
      "Wall time: 721 ms\n"
     ]
    }
   ],
   "source": [
    "%%time\n",
    "df_train.drop(['deal_probability', 'title', 'description'], axis=1, inplace=True)\n",
    "df_test.drop(['title', 'description'], axis=1, inplace=True)\n",
    "print('Remerged')\n",
    "\n",
    "dummy_cols = ['parent_category_name', 'category_name', 'user_type', 'image_top_1',\n",
    "            'region', 'city', 'param_1', 'param_2', 'param_3', 'activation_weekday']\n",
    "numeric_cols = list(set(df_train.columns.values) - set(dummy_cols))\n",
    "print(numeric_cols)"
   ]
  },
  {
   "cell_type": "code",
   "execution_count": 27,
   "metadata": {},
   "outputs": [
    {
     "name": "stdout",
     "output_type": "stream",
     "text": [
      "Scaler\n",
      "CPU times: user 2.11 s, sys: 3.11 s, total: 5.23 s\n",
      "Wall time: 5.22 s\n"
     ]
    }
   ],
   "source": [
    "%%time\n",
    "from sklearn.preprocessing import StandardScaler\n",
    "from sklearn.base import BaseEstimator, TransformerMixin\n",
    "\n",
    "# https://stackoverflow.com/questions/37685412/avoid-scaling-binary-columns-in-sci-kit-learn-standsardscaler\n",
    "class Scaler(BaseEstimator, TransformerMixin):\n",
    "    def __init__(self, columns, copy=True, with_mean=True, with_std=True):\n",
    "        self.scaler = StandardScaler(copy, with_mean, with_std)\n",
    "        self.columns = columns\n",
    "\n",
    "    def fit(self, X, y=None):\n",
    "        self.scaler.fit(X[self.columns], y)\n",
    "        return self\n",
    "\n",
    "    def transform(self, X, y=None, copy=None):\n",
    "        init_col_order = X.columns\n",
    "        X_scaled = pd.DataFrame(self.scaler.transform(X[self.columns]), columns=self.columns, index=X.index)\n",
    "        X_not_scaled = X[list(set(init_col_order) - set(self.columns))]\n",
    "        return pd.concat([X_not_scaled, X_scaled], axis=1)[init_col_order]\n",
    "\n",
    "print('Scaler')\n",
    "scaler = Scaler(columns=numeric_cols)\n",
    "df_train = scaler.fit_transform(df_train)\n",
    "df_test = scaler.transform(df_test)"
   ]
  },
  {
   "cell_type": "code",
   "execution_count": 28,
   "metadata": {},
   "outputs": [
    {
     "data": {
      "text/html": [
       "<div>\n",
       "<style scoped>\n",
       "    .dataframe tbody tr th:only-of-type {\n",
       "        vertical-align: middle;\n",
       "    }\n",
       "\n",
       "    .dataframe tbody tr th {\n",
       "        vertical-align: top;\n",
       "    }\n",
       "\n",
       "    .dataframe thead th {\n",
       "        text-align: right;\n",
       "    }\n",
       "</style>\n",
       "<table border=\"1\" class=\"dataframe\">\n",
       "  <thead>\n",
       "    <tr style=\"text-align: right;\">\n",
       "      <th></th>\n",
       "      <th>category_name</th>\n",
       "      <th>city</th>\n",
       "      <th>image_top_1</th>\n",
       "      <th>item_seq_number</th>\n",
       "      <th>param_1</th>\n",
       "      <th>param_2</th>\n",
       "      <th>param_3</th>\n",
       "      <th>parent_category_name</th>\n",
       "      <th>price</th>\n",
       "      <th>region</th>\n",
       "      <th>...</th>\n",
       "      <th>title_num_unique_words</th>\n",
       "      <th>title_words_vs_unique</th>\n",
       "      <th>title_letters_per_word</th>\n",
       "      <th>title_punctuations_by_letters</th>\n",
       "      <th>title_punctuations_by_words</th>\n",
       "      <th>title_digits_by_letters</th>\n",
       "      <th>title_alphabets_by_letters</th>\n",
       "      <th>title_stopwords_by_words</th>\n",
       "      <th>title_mean</th>\n",
       "      <th>title_desc_len_ratio</th>\n",
       "    </tr>\n",
       "    <tr>\n",
       "      <th>item_id</th>\n",
       "      <th></th>\n",
       "      <th></th>\n",
       "      <th></th>\n",
       "      <th></th>\n",
       "      <th></th>\n",
       "      <th></th>\n",
       "      <th></th>\n",
       "      <th></th>\n",
       "      <th></th>\n",
       "      <th></th>\n",
       "      <th></th>\n",
       "      <th></th>\n",
       "      <th></th>\n",
       "      <th></th>\n",
       "      <th></th>\n",
       "      <th></th>\n",
       "      <th></th>\n",
       "      <th></th>\n",
       "      <th></th>\n",
       "      <th></th>\n",
       "      <th></th>\n",
       "    </tr>\n",
       "  </thead>\n",
       "  <tbody>\n",
       "    <tr>\n",
       "      <th>b912c3c6a6ad</th>\n",
       "      <td>Товары для детей и игрушки</td>\n",
       "      <td>Екатеринбург</td>\n",
       "      <td>1008.0</td>\n",
       "      <td>-0.133095</td>\n",
       "      <td>Постельные принадлежности</td>\n",
       "      <td>NaN</td>\n",
       "      <td>NaN</td>\n",
       "      <td>Личные вещи</td>\n",
       "      <td>0.237438</td>\n",
       "      <td>Свердловская область</td>\n",
       "      <td>...</td>\n",
       "      <td>-0.174049</td>\n",
       "      <td>0.069167</td>\n",
       "      <td>0.100569</td>\n",
       "      <td>0.0</td>\n",
       "      <td>0.0</td>\n",
       "      <td>0.0</td>\n",
       "      <td>0.0</td>\n",
       "      <td>2.613470</td>\n",
       "      <td>-0.371229</td>\n",
       "      <td>-0.206780</td>\n",
       "    </tr>\n",
       "    <tr>\n",
       "      <th>2dac0150717d</th>\n",
       "      <td>Мебель и интерьер</td>\n",
       "      <td>Самара</td>\n",
       "      <td>692.0</td>\n",
       "      <td>-0.130044</td>\n",
       "      <td>Другое</td>\n",
       "      <td>NaN</td>\n",
       "      <td>NaN</td>\n",
       "      <td>Для дома и дачи</td>\n",
       "      <td>0.246085</td>\n",
       "      <td>Самарская область</td>\n",
       "      <td>...</td>\n",
       "      <td>-0.174049</td>\n",
       "      <td>0.069167</td>\n",
       "      <td>-0.540493</td>\n",
       "      <td>0.0</td>\n",
       "      <td>0.0</td>\n",
       "      <td>0.0</td>\n",
       "      <td>0.0</td>\n",
       "      <td>2.613470</td>\n",
       "      <td>0.398994</td>\n",
       "      <td>-0.180563</td>\n",
       "    </tr>\n",
       "    <tr>\n",
       "      <th>ba83aefab5dc</th>\n",
       "      <td>Аудио и видео</td>\n",
       "      <td>Ростов-на-Дону</td>\n",
       "      <td>3032.0</td>\n",
       "      <td>-0.131839</td>\n",
       "      <td>Видео, DVD и Blu-ray плееры</td>\n",
       "      <td>NaN</td>\n",
       "      <td>NaN</td>\n",
       "      <td>Бытовая электроника</td>\n",
       "      <td>0.247320</td>\n",
       "      <td>Ростовская область</td>\n",
       "      <td>...</td>\n",
       "      <td>-0.718742</td>\n",
       "      <td>0.069167</td>\n",
       "      <td>0.100569</td>\n",
       "      <td>0.0</td>\n",
       "      <td>0.0</td>\n",
       "      <td>0.0</td>\n",
       "      <td>0.0</td>\n",
       "      <td>-0.486187</td>\n",
       "      <td>-0.371229</td>\n",
       "      <td>-0.316833</td>\n",
       "    </tr>\n",
       "    <tr>\n",
       "      <th>02996f1dd2ea</th>\n",
       "      <td>Товары для детей и игрушки</td>\n",
       "      <td>Набережные Челны</td>\n",
       "      <td>796.0</td>\n",
       "      <td>-0.082131</td>\n",
       "      <td>Автомобильные кресла</td>\n",
       "      <td>NaN</td>\n",
       "      <td>NaN</td>\n",
       "      <td>Личные вещи</td>\n",
       "      <td>0.244754</td>\n",
       "      <td>Татарстан</td>\n",
       "      <td>...</td>\n",
       "      <td>-1.263436</td>\n",
       "      <td>0.069167</td>\n",
       "      <td>1.542957</td>\n",
       "      <td>0.0</td>\n",
       "      <td>0.0</td>\n",
       "      <td>0.0</td>\n",
       "      <td>0.0</td>\n",
       "      <td>-0.486187</td>\n",
       "      <td>-1.353265</td>\n",
       "      <td>-0.160657</td>\n",
       "    </tr>\n",
       "    <tr>\n",
       "      <th>7c90be56d2ab</th>\n",
       "      <td>Автомобили</td>\n",
       "      <td>Волгоград</td>\n",
       "      <td>2264.0</td>\n",
       "      <td>-0.132915</td>\n",
       "      <td>С пробегом</td>\n",
       "      <td>ВАЗ (LADA)</td>\n",
       "      <td>2110</td>\n",
       "      <td>Транспорт</td>\n",
       "      <td>0.257201</td>\n",
       "      <td>Волгоградская область</td>\n",
       "      <td>...</td>\n",
       "      <td>-0.174049</td>\n",
       "      <td>0.069167</td>\n",
       "      <td>-1.021289</td>\n",
       "      <td>0.0</td>\n",
       "      <td>0.0</td>\n",
       "      <td>0.0</td>\n",
       "      <td>0.0</td>\n",
       "      <td>-0.486187</td>\n",
       "      <td>1.265496</td>\n",
       "      <td>-0.096423</td>\n",
       "    </tr>\n",
       "  </tbody>\n",
       "</table>\n",
       "<p>5 rows × 43 columns</p>\n",
       "</div>"
      ],
      "text/plain": [
       "                           category_name              city  image_top_1  \\\n",
       "item_id                                                                   \n",
       "b912c3c6a6ad  Товары для детей и игрушки      Екатеринбург       1008.0   \n",
       "2dac0150717d           Мебель и интерьер            Самара        692.0   \n",
       "ba83aefab5dc               Аудио и видео    Ростов-на-Дону       3032.0   \n",
       "02996f1dd2ea  Товары для детей и игрушки  Набережные Челны        796.0   \n",
       "7c90be56d2ab                  Автомобили         Волгоград       2264.0   \n",
       "\n",
       "              item_seq_number                      param_1     param_2  \\\n",
       "item_id                                                                  \n",
       "b912c3c6a6ad        -0.133095    Постельные принадлежности         NaN   \n",
       "2dac0150717d        -0.130044                       Другое         NaN   \n",
       "ba83aefab5dc        -0.131839  Видео, DVD и Blu-ray плееры         NaN   \n",
       "02996f1dd2ea        -0.082131         Автомобильные кресла         NaN   \n",
       "7c90be56d2ab        -0.132915                   С пробегом  ВАЗ (LADA)   \n",
       "\n",
       "             param_3 parent_category_name     price                 region  \\\n",
       "item_id                                                                      \n",
       "b912c3c6a6ad     NaN          Личные вещи  0.237438   Свердловская область   \n",
       "2dac0150717d     NaN      Для дома и дачи  0.246085      Самарская область   \n",
       "ba83aefab5dc     NaN  Бытовая электроника  0.247320     Ростовская область   \n",
       "02996f1dd2ea     NaN          Личные вещи  0.244754              Татарстан   \n",
       "7c90be56d2ab    2110            Транспорт  0.257201  Волгоградская область   \n",
       "\n",
       "                      ...          title_num_unique_words  \\\n",
       "item_id               ...                                   \n",
       "b912c3c6a6ad          ...                       -0.174049   \n",
       "2dac0150717d          ...                       -0.174049   \n",
       "ba83aefab5dc          ...                       -0.718742   \n",
       "02996f1dd2ea          ...                       -1.263436   \n",
       "7c90be56d2ab          ...                       -0.174049   \n",
       "\n",
       "              title_words_vs_unique  title_letters_per_word  \\\n",
       "item_id                                                       \n",
       "b912c3c6a6ad               0.069167                0.100569   \n",
       "2dac0150717d               0.069167               -0.540493   \n",
       "ba83aefab5dc               0.069167                0.100569   \n",
       "02996f1dd2ea               0.069167                1.542957   \n",
       "7c90be56d2ab               0.069167               -1.021289   \n",
       "\n",
       "              title_punctuations_by_letters  title_punctuations_by_words  \\\n",
       "item_id                                                                    \n",
       "b912c3c6a6ad                            0.0                          0.0   \n",
       "2dac0150717d                            0.0                          0.0   \n",
       "ba83aefab5dc                            0.0                          0.0   \n",
       "02996f1dd2ea                            0.0                          0.0   \n",
       "7c90be56d2ab                            0.0                          0.0   \n",
       "\n",
       "              title_digits_by_letters  title_alphabets_by_letters  \\\n",
       "item_id                                                             \n",
       "b912c3c6a6ad                      0.0                         0.0   \n",
       "2dac0150717d                      0.0                         0.0   \n",
       "ba83aefab5dc                      0.0                         0.0   \n",
       "02996f1dd2ea                      0.0                         0.0   \n",
       "7c90be56d2ab                      0.0                         0.0   \n",
       "\n",
       "              title_stopwords_by_words  title_mean  title_desc_len_ratio  \n",
       "item_id                                                                   \n",
       "b912c3c6a6ad                  2.613470   -0.371229             -0.206780  \n",
       "2dac0150717d                  2.613470    0.398994             -0.180563  \n",
       "ba83aefab5dc                 -0.486187   -0.371229             -0.316833  \n",
       "02996f1dd2ea                 -0.486187   -1.353265             -0.160657  \n",
       "7c90be56d2ab                 -0.486187    1.265496             -0.096423  \n",
       "\n",
       "[5 rows x 43 columns]"
      ]
     },
     "execution_count": 28,
     "metadata": {},
     "output_type": "execute_result"
    }
   ],
   "source": [
    "df_train.head()"
   ]
  },
  {
   "cell_type": "code",
   "execution_count": 29,
   "metadata": {},
   "outputs": [
    {
     "name": "stdout",
     "output_type": "stream",
     "text": [
      "(1503424, 591100)\n",
      "parent_category_name\n",
      "(1503424, 591109)\n",
      "category_name\n",
      "(1503424, 591156)\n",
      "user_type\n",
      "(1503424, 591159)\n",
      "image_top_1\n",
      "(1503424, 594222)\n",
      "region\n",
      "(1503424, 594250)\n",
      "city\n",
      "(1503424, 595983)\n",
      "param_1\n",
      "(1503424, 596355)\n",
      "param_2\n",
      "(1503424, 596627)\n",
      "param_3\n",
      "(1503424, 597847)\n",
      "activation_weekday\n",
      "(1503424, 597854)\n",
      "CPU times: user 3min 25s, sys: 19.3 s, total: 3min 45s\n",
      "Wall time: 3min 45s\n"
     ]
    }
   ],
   "source": [
    "%%time\n",
    "from sklearn.preprocessing import LabelBinarizer\n",
    "\n",
    "sparse_merge_train = hstack((X_name_train, X_description_train)).tocsr()\n",
    "sparse_merge_test = hstack((X_name_test, X_description_test)).tocsr()\n",
    "print(sparse_merge_train.shape)\n",
    "for col in dummy_cols:\n",
    "    print(col)\n",
    "    lb = LabelBinarizer(sparse_output=True)\n",
    "    sparse_merge_train = hstack((sparse_merge_train, lb.fit_transform(df_train[[col]].fillna('')))).tocsr()\n",
    "    print(sparse_merge_train.shape)\n",
    "    sparse_merge_test = hstack((sparse_merge_test, lb.transform(df_test[[col]].fillna('')))).tocsr()"
   ]
  },
  {
   "cell_type": "code",
   "execution_count": 30,
   "metadata": {},
   "outputs": [
    {
     "data": {
      "text/plain": [
       "196"
      ]
     },
     "execution_count": 30,
     "metadata": {},
     "output_type": "execute_result"
    }
   ],
   "source": [
    "del X_description_test, X_name_test\n",
    "del X_description_train, X_name_train\n",
    "del lb, mask\n",
    "gc.collect()"
   ]
  },
  {
   "cell_type": "code",
   "execution_count": 31,
   "metadata": {},
   "outputs": [
    {
     "name": "stdout",
     "output_type": "stream",
     "text": [
      "\n",
      " FM_FTRL Starting...........\n",
      "[5420.126853942871] Train FM completed\n",
      "[5427.818638801575] Predict FM completed\n",
      "CPU times: user 2min 5s, sys: 44.6 s, total: 2min 50s\n",
      "Wall time: 43.6 s\n"
     ]
    }
   ],
   "source": [
    "%%time\n",
    "print(\"\\n FM_FTRL Starting...........\")\n",
    "if SUBMIT_MODE:\n",
    "    iters = 1\n",
    "else:\n",
    "    iters = 1\n",
    "    rounds = 1\n",
    "\n",
    "model = FM_FTRL(alpha=0.035, beta=0.001, L1=0.00001, L2=0.15, D=sparse_merge_train.shape[1],\n",
    "                alpha_fm=0.05, L2_fm=0.0, init_fm=0.01,\n",
    "                D_fm=100, e_noise=0, iters=iters, inv_link=\"identity\", threads=4)\n",
    "\n",
    "if SUBMIT_MODE:\n",
    "    model.fit(sparse_merge_train, y_train)\n",
    "    print('[{}] Train FM completed'.format(time.time() - start_time))\n",
    "    predsFM = model.predict(sparse_merge_test)\n",
    "    print('[{}] Predict FM completed'.format(time.time() - start_time))\n",
    "else:\n",
    "    for i in range(rounds):\n",
    "        model.fit(sparse_merge_train, y_train)\n",
    "        predsFM = model.predict(sparse_merge_test)\n",
    "        print('[{}] Iteration {}/{} -- RMSLE: {}'.format(time.time() - start_time, i + 1, rounds, rmse(predsFM, y_test)))\n",
    "\n",
    "del model\n",
    "gc.collect()\n",
    "if not SUBMIT_MODE:\n",
    "    print(\"FM_FTRL dev RMSLE:\", rmse(predsFM, y_test))\n",
    "# 0.23046 in 1/3"
   ]
  },
  {
   "cell_type": "code",
   "execution_count": 32,
   "metadata": {},
   "outputs": [
    {
     "name": "stdout",
     "output_type": "stream",
     "text": [
      "[5436.23700594902] Finished splitting\n",
      "[5518.239964008331] Finished to train ridge (1)\n",
      "[5518.523268222809] Finished to predict ridge (1)\n",
      "[5598.433698892593] Finished to train ridge (2)\n",
      "[5598.71185874939] Finished to predict ridge (2)\n",
      "RMSLE OOF: 0.23342334067442383\n"
     ]
    }
   ],
   "source": [
    "X_train_1, X_train_2, y_train_1, y_train_2 = train_test_split(sparse_merge_train, y_train,\n",
    "                                                              test_size = 0.5,\n",
    "                                                              shuffle = False)\n",
    "print('[{}] Finished splitting'.format(time.time() - start_time))\n",
    "\n",
    "model = Ridge(solver=\"sag\", fit_intercept=True, random_state=205, alpha=3.3)\n",
    "model.fit(X_train_1, y_train_1)\n",
    "print('[{}] Finished to train ridge (1)'.format(time.time() - start_time))\n",
    "ridge_preds1 = model.predict(X_train_2)\n",
    "ridge_preds1f = model.predict(sparse_merge_test)\n",
    "print('[{}] Finished to predict ridge (1)'.format(time.time() - start_time))\n",
    "model = Ridge(solver=\"sag\", fit_intercept=True, random_state=205, alpha=3.3)\n",
    "model.fit(X_train_2, y_train_2)\n",
    "print('[{}] Finished to train ridge (2)'.format(time.time() - start_time))\n",
    "ridge_preds2 = model.predict(X_train_1)\n",
    "ridge_preds2f = model.predict(sparse_merge_test)\n",
    "print('[{}] Finished to predict ridge (2)'.format(time.time() - start_time))\n",
    "ridge_preds_oof = np.concatenate((ridge_preds2, ridge_preds1), axis=0)\n",
    "ridge_preds_test = (ridge_preds1f + ridge_preds2f) / 2.0\n",
    "print('RMSLE OOF: {}'.format(rmse(ridge_preds_oof, y_train)))\n",
    "if not SUBMIT_MODE:\n",
    "    print('RMSLE TEST: {}'.format(rmse(ridge_preds_test, y_test)))"
   ]
  },
  {
   "cell_type": "code",
   "execution_count": 33,
   "metadata": {},
   "outputs": [
    {
     "name": "stdout",
     "output_type": "stream",
     "text": [
      "[5696.191174983978] Select best completed\n",
      "[5696.29104590416] Garbage collection\n"
     ]
    }
   ],
   "source": [
    "fselect = SelectKBest(f_regression, k=48000)\n",
    "train_features = fselect.fit_transform(sparse_merge_train, y_train)\n",
    "test_features = fselect.transform(sparse_merge_test)\n",
    "print('[{}] Select best completed'.format(time.time() - start_time))\n",
    "\n",
    "\n",
    "del sparse_merge_train\n",
    "del sparse_merge_test\n",
    "gc.collect()\n",
    "print('[{}] Garbage collection'.format(time.time() - start_time))"
   ]
  },
  {
   "cell_type": "code",
   "execution_count": 34,
   "metadata": {},
   "outputs": [
    {
     "name": "stdout",
     "output_type": "stream",
     "text": [
      "[5765.737865924835] Finished garbage collection\n"
     ]
    }
   ],
   "source": [
    "del ridge_preds1\n",
    "del ridge_preds1f\n",
    "del ridge_preds2\n",
    "del ridge_preds2f\n",
    "del X_train_1\n",
    "del X_train_2\n",
    "del y_train_1\n",
    "del y_train_2\n",
    "del model\n",
    "gc.collect()\n",
    "print('[{}] Finished garbage collection'.format(time.time() - start_time))"
   ]
  },
  {
   "cell_type": "code",
   "execution_count": 35,
   "metadata": {},
   "outputs": [
    {
     "name": "stdout",
     "output_type": "stream",
     "text": [
      "[5771.701657295227] Finished adding submodels\n"
     ]
    }
   ],
   "source": [
    "df_train['ridge'] = ridge_preds_oof\n",
    "df_train['name_ridge'] = name_ridge_preds_oof\n",
    "df_train['desc_ridge'] = desc_ridge_preds_oof\n",
    "df_test['ridge'] = ridge_preds_test\n",
    "df_test['name_ridge'] = name_ridge_preds_test\n",
    "df_test['desc_ridge'] = desc_ridge_preds_test\n",
    "print('[{}] Finished adding submodels'.format(time.time() - start_time))"
   ]
  },
  {
   "cell_type": "code",
   "execution_count": 36,
   "metadata": {},
   "outputs": [
    {
     "name": "stdout",
     "output_type": "stream",
     "text": [
      "[5785.647529840469] Finished target encoding\n"
     ]
    }
   ],
   "source": [
    "f_cats = [\"region\",\"city\",\"parent_category_name\",\"category_name\",\"user_type\",\"image_top_1\"]\n",
    "target_encode = TargetEncoder(min_samples_leaf=100, smoothing=10, noise_level=0.01,\n",
    "                              keep_original=True, cols=f_cats)\n",
    "df_train, df_test = target_encode.encode(df_train, df_test, y_train)\n",
    "print('[{}] Finished target encoding'.format(time.time() - start_time))"
   ]
  },
  {
   "cell_type": "code",
   "execution_count": 37,
   "metadata": {},
   "outputs": [
    {
     "name": "stdout",
     "output_type": "stream",
     "text": [
      "[5805.613148927689] Finished garbage collection\n"
     ]
    }
   ],
   "source": [
    "del ridge_preds_oof\n",
    "del ridge_preds_test\n",
    "gc.collect()\n",
    "print('[{}] Finished garbage collection'.format(time.time() - start_time))"
   ]
  },
  {
   "cell_type": "code",
   "execution_count": 38,
   "metadata": {},
   "outputs": [
    {
     "name": "stdout",
     "output_type": "stream",
     "text": [
      "[5859.820460319519] Finished dummyizing model 1/5\n",
      "[5860.303211688995] Finished dummyizing model 2/5\n",
      "[5860.414610862732] Finished dummyizing model 3/5\n",
      "[5864.654233217239] Finished dummyizing model 4/5\n",
      "[5866.068094491959] Finished dummyizing model 5/5\n"
     ]
    }
   ],
   "source": [
    "cols = ['region_te', 'city_te', 'parent_category_name_te', 'category_name_te',\n",
    "        'user_type_te', 'image_top_1_te', 'desc_ridge', 'name_ridge', 'ridge']\n",
    "train_dummies = csr_matrix(df_train[cols].values)\n",
    "print('[{}] Finished dummyizing model 1/5'.format(time.time() - start_time))\n",
    "test_dummies = csr_matrix(df_test[cols].values)\n",
    "print('[{}] Finished dummyizing model 2/5'.format(time.time() - start_time))\n",
    "del df_train\n",
    "del df_test\n",
    "gc.collect()\n",
    "print('[{}] Finished dummyizing model 3/5'.format(time.time() - start_time))\n",
    "train_features = hstack((train_features, train_dummies)).tocsr()\n",
    "print('[{}] Finished dummyizing model 4/5'.format(time.time() - start_time))\n",
    "test_features = hstack((test_features, test_dummies)).tocsr()\n",
    "print('[{}] Finished dummyizing model 5/5'.format(time.time() - start_time))"
   ]
  },
  {
   "cell_type": "code",
   "execution_count": 39,
   "metadata": {},
   "outputs": [
    {
     "name": "stdout",
     "output_type": "stream",
     "text": [
      "[5868.263060331345] Finished compiling LGB\n"
     ]
    }
   ],
   "source": [
    "d_train = lgb.Dataset(train_features, label=y_train)\n",
    "del train_features\n",
    "gc.collect()\n",
    "if SUBMIT_MODE:\n",
    "    watchlist = [d_train]\n",
    "else:\n",
    "    d_valid = lgb.Dataset(test_features, label=y_test)\n",
    "    watchlist = [d_train, d_valid]\n",
    "\n",
    "params = {\n",
    "    'learning_rate': 0.15,\n",
    "    'application': 'regression',\n",
    "    'max_depth': 13,\n",
    "    'num_leaves': 400,\n",
    "    'verbosity': -1,\n",
    "    'metric': 'RMSE',\n",
    "    'data_random_seed': 1,\n",
    "    'bagging_fraction': 0.8,\n",
    "    'feature_fraction': 0.6,\n",
    "    'nthread': 4,\n",
    "    'lambda_l1': 10,\n",
    "    'lambda_l2': 10\n",
    "}\n",
    "print('[{}] Finished compiling LGB'.format(time.time() - start_time))"
   ]
  },
  {
   "cell_type": "code",
   "execution_count": 40,
   "metadata": {},
   "outputs": [
    {
     "name": "stdout",
     "output_type": "stream",
     "text": [
      "[50]\ttraining's rmse: 0.222998\n",
      "[100]\ttraining's rmse: 0.221688\n",
      "[150]\ttraining's rmse: 0.220429\n",
      "[200]\ttraining's rmse: 0.219469\n",
      "[250]\ttraining's rmse: 0.218634\n",
      "[300]\ttraining's rmse: 0.217682\n",
      "[350]\ttraining's rmse: 0.216915\n",
      "[400]\ttraining's rmse: 0.216191\n",
      "CPU times: user 22min 50s, sys: 1min 45s, total: 24min 36s\n",
      "Wall time: 6min 11s\n"
     ]
    }
   ],
   "source": [
    "%%time\n",
    "modelL = lgb.train(params,\n",
    "                  train_set=d_train,\n",
    "                  num_boost_round=400,\n",
    "                  valid_sets=watchlist,\n",
    "                  verbose_eval=50)\n",
    "\n",
    "predsL = modelL.predict(test_features)\n",
    "predsL[predsL < 0] = 0\n",
    "predsL[predsL > 1] = 1\n",
    "\n",
    "if not SUBMIT_MODE:\n",
    "    print(\"LGB RMSLE:\", rmse(predsL, y_test))"
   ]
  },
  {
   "cell_type": "code",
   "execution_count": 41,
   "metadata": {},
   "outputs": [
    {
     "data": {
      "text/plain": [
       "259"
      ]
     },
     "execution_count": 41,
     "metadata": {},
     "output_type": "execute_result"
    }
   ],
   "source": [
    "del d_train\n",
    "del modelL\n",
    "if not SUBMIT_MODE:\n",
    "    del d_valid\n",
    "gc.collect()"
   ]
  },
  {
   "cell_type": "code",
   "execution_count": 42,
   "metadata": {
    "collapsed": true
   },
   "outputs": [],
   "source": [
    "preds_final = predsFM * 0.1 + predsL * 0.9\n",
    "if not SUBMIT_MODE:\n",
    "    print('Final RMSE: ', rmse(preds_final, y_test))"
   ]
  },
  {
   "cell_type": "code",
   "execution_count": 43,
   "metadata": {},
   "outputs": [
    {
     "name": "stdout",
     "output_type": "stream",
     "text": [
      "[6639.105021238327] Writing submission done\n",
      "        item_id  deal_probability\n",
      "0  6544e41a8817          0.331394\n",
      "1  65b9484d670f          0.140761\n",
      "2  8bab230b2ecd          0.220724\n",
      "3  8e348601fefc          0.118443\n",
      "4  8bd2fe400b89          0.230886\n"
     ]
    }
   ],
   "source": [
    "if SUBMIT_MODE:\n",
    "    submission['deal_probability'] = preds_final\n",
    "    submission['deal_probability'] = submission['deal_probability'].clip(0.0, 1.0) # Between 0 and 1\n",
    "    submission.to_csv('avito_lgb_and_fm_separate_train_test.csv', index=False)\n",
    "    print('[{}] Writing submission done'.format(time.time() - start_time))\n",
    "    print(submission.head(5))"
   ]
  },
  {
   "cell_type": "code",
   "execution_count": 51,
   "metadata": {},
   "outputs": [
    {
     "name": "stdout",
     "output_type": "stream",
     "text": [
      "Data:\n",
      " ['train_active.csv.zip', 'train.csv', 'periods_test.csv', 'train_jpg_0.zip', 'train_active.csv', 'test_active.csv.zip', 'test_active.csv', 'periods_test.csv.zip', 'test.csv', 'train.csv.zip', 'periods_train.csv', 'test.csv.zip', 'periods_train.csv.zip']\n",
      "\n",
      "Data Load Stage\n"
     ]
    },
    {
     "name": "stderr",
     "output_type": "stream",
     "text": [
      "/home/luanhongwei/anaconda3/lib/python3.6/site-packages/sklearn/cross_validation.py:41: DeprecationWarning: This module was deprecated in version 0.18 in favor of the model_selection module into which all the refactored classes and functions are moved. Also note that the interface of the new CV iterators are different from that of this module. This module will be removed in 0.20.\n",
      "  \"This module will be removed in 0.20.\", DeprecationWarning)\n"
     ]
    },
    {
     "name": "stdout",
     "output_type": "stream",
     "text": [
      "Train shape: 1503424 Rows, 16 Columns\n",
      "Test shape: 508438 Rows, 16 Columns\n",
      "Combine Train and Test\n",
      "\n",
      "All Data shape: 2011862 Rows, 16 Columns\n",
      "Feature Engineering\n",
      "\n",
      "Create Time Variables\n",
      "\n",
      "Encode Variables\n",
      "Encoding : ['user_id', 'region', 'city', 'parent_category_name', 'category_name', 'user_type', 'image_top_1', 'param_1', 'param_2', 'param_3']\n",
      "\n",
      "Text Features\n",
      "\n",
      "[TF-IDF] Term Frequency Inverse Document Frequency Stage\n",
      "Vectorization Runtime: 8.48 Minutes\n",
      "\n",
      "Fold 0\n",
      "\n",
      "Fold 1\n",
      "\n",
      "Fold 2\n",
      "\n",
      "Fold 3\n",
      "\n",
      "Fold 4\n",
      "Ridge OOF RMSE: 0.23034390282097936\n",
      "Modeling Stage\n",
      "1503424 Rows and 1430783 Cols\n",
      "508438 Rows and 1430783 Cols\n",
      "Feature Names Length:  1430783\n",
      "\n",
      "Modeling Stage\n",
      "Light Gradient Boosting Regressor\n"
     ]
    },
    {
     "name": "stderr",
     "output_type": "stream",
     "text": [
      "/home/luanhongwei/anaconda3/lib/python3.6/site-packages/lightgbm/basic.py:1036: UserWarning: Using categorical_feature in Dataset.\n",
      "  warnings.warn('Using categorical_feature in Dataset.')\n"
     ]
    },
    {
     "name": "stdout",
     "output_type": "stream",
     "text": [
      "Model Evaluation Stage\n"
     ]
    },
    {
     "name": "stderr",
     "output_type": "stream",
     "text": [
      "/home/luanhongwei/anaconda3/lib/python3.6/site-packages/lightgbm/basic.py:447: UserWarning: Converting data to scipy sparse matrix.\n",
      "  warnings.warn('Converting data to scipy sparse matrix.')\n"
     ]
    },
    {
     "name": "stdout",
     "output_type": "stream",
     "text": [
      "Notebook Runtime: 97.21 Minutes\n"
     ]
    },
    {
     "data": {
      "image/png": "[encoded data removed]",
      "text/plain": [
       "<matplotlib.figure.Figure at 0x7f97c4b4fb00>"
      ]
     },
     "metadata": {},
     "output_type": "display_data"
    }
   ],
   "source": [
    "import time\n",
    "notebookstart= time.time()\n",
    "\n",
    "import numpy as np # linear algebra\n",
    "import pandas as pd # data processing, CSV file I/O (e.g. pd.read_csv)\n",
    "import os\n",
    "import gc\n",
    "print(\"Data:\\n\",os.listdir(\".kaggle/competitions/avito-demand-prediction/\"))\n",
    "\n",
    "# Models Packages\n",
    "from sklearn import metrics\n",
    "from sklearn.metrics import mean_squared_error\n",
    "from sklearn import feature_selection\n",
    "from sklearn.model_selection import train_test_split\n",
    "from sklearn import preprocessing\n",
    "\n",
    "# Gradient Boosting\n",
    "import lightgbm as lgb\n",
    "from sklearn.linear_model import Ridge\n",
    "from sklearn.cross_validation import KFold\n",
    "\n",
    "# Tf-Idf\n",
    "from sklearn.feature_extraction.text import CountVectorizer, TfidfVectorizer\n",
    "from sklearn.pipeline import FeatureUnion\n",
    "from scipy.sparse import hstack, csr_matrix\n",
    "from nltk.corpus import stopwords \n",
    "\n",
    "# Viz\n",
    "import seaborn as sns\n",
    "import matplotlib.pyplot as plt\n",
    "import re\n",
    "import string\n",
    "\n",
    "NFOLDS = 5\n",
    "SEED = 42\n",
    "VALID = True\n",
    "class SklearnWrapper(object):\n",
    "    def __init__(self, clf, seed=0, params=None, seed_bool = True):\n",
    "        if(seed_bool == True):\n",
    "            params['random_state'] = seed\n",
    "        self.clf = clf(**params)\n",
    "\n",
    "    def train(self, x_train, y_train):\n",
    "        self.clf.fit(x_train, y_train)\n",
    "\n",
    "    def predict(self, x):\n",
    "        return self.clf.predict(x)\n",
    "        \n",
    "def get_oof(clf, x_train, y, x_test):\n",
    "    oof_train = np.zeros((ntrain,))\n",
    "    oof_test = np.zeros((ntest,))\n",
    "    oof_test_skf = np.empty((NFOLDS, ntest))\n",
    "\n",
    "    for i, (train_index, test_index) in enumerate(kf):\n",
    "        print('\\nFold {}'.format(i))\n",
    "        x_tr = x_train[train_index]\n",
    "        y_tr = y[train_index]\n",
    "        x_te = x_train[test_index]\n",
    "\n",
    "        clf.train(x_tr, y_tr)\n",
    "\n",
    "        oof_train[test_index] = clf.predict(x_te)\n",
    "        oof_test_skf[i, :] = clf.predict(x_test)\n",
    "\n",
    "    oof_test[:] = oof_test_skf.mean(axis=0)\n",
    "    return oof_train.reshape(-1, 1), oof_test.reshape(-1, 1)\n",
    "    \n",
    "def cleanName(text):\n",
    "    try:\n",
    "        textProc = text.lower()\n",
    "        # textProc = \" \".join(map(str.strip, re.split('(\\d+)',textProc)))\n",
    "        #regex = re.compile(u'[^[:alpha:]]')\n",
    "        #textProc = regex.sub(\" \", textProc)\n",
    "        textProc = re.sub('[!@#$_“”¨«»®´·º½¾¿¡§£₤‘’]', '', textProc)\n",
    "        textProc = \" \".join(textProc.split())\n",
    "        return textProc\n",
    "    except: \n",
    "        return \"name error\"\n",
    "    \n",
    "    \n",
    "def rmse(y, y0):\n",
    "    assert len(y) == len(y0)\n",
    "    return np.sqrt(np.mean(np.power((y - y0), 2)))\n",
    "\n",
    "print(\"\\nData Load Stage\")\n",
    "training = pd.read_csv('~/.kaggle/competitions/avito-demand-prediction/train.csv', index_col = \"item_id\", parse_dates = [\"activation_date\"])\n",
    "traindex = training.index\n",
    "testing = pd.read_csv('~/.kaggle/competitions/avito-demand-prediction/test.csv', index_col = \"item_id\", parse_dates = [\"activation_date\"])\n",
    "testdex = testing.index\n",
    "\n",
    "ntrain = training.shape[0]\n",
    "ntest = testing.shape[0]\n",
    "\n",
    "kf = KFold(ntrain, n_folds=NFOLDS, shuffle=True, random_state=SEED)\n",
    "\n",
    "y = training.deal_probability.copy()\n",
    "training.drop(\"deal_probability\",axis=1, inplace=True)\n",
    "print('Train shape: {} Rows, {} Columns'.format(*training.shape))\n",
    "print('Test shape: {} Rows, {} Columns'.format(*testing.shape))\n",
    "\n",
    "print(\"Combine Train and Test\")\n",
    "df = pd.concat([training,testing],axis=0)\n",
    "del training, testing\n",
    "gc.collect()\n",
    "print('\\nAll Data shape: {} Rows, {} Columns'.format(*df.shape))\n",
    "\n",
    "\n",
    "print(\"Feature Engineering\")\n",
    "df[\"price\"] = np.log(df[\"price\"]+0.001)\n",
    "df[\"price\"].fillna(df.price.mean(),inplace=True)\n",
    "df[\"image_top_1\"].fillna(-999,inplace=True)\n",
    "\n",
    "print(\"\\nCreate Time Variables\")\n",
    "df[\"Weekday\"] = df['activation_date'].dt.weekday\n",
    "df[\"Weekd of Year\"] = df['activation_date'].dt.week\n",
    "df[\"Day of Month\"] = df['activation_date'].dt.day\n",
    "\n",
    "# Create Validation Index and Remove Dead Variables\n",
    "training_index = df.loc[df.activation_date<=pd.to_datetime('2017-04-07')].index\n",
    "validation_index = df.loc[df.activation_date>=pd.to_datetime('2017-04-08')].index\n",
    "df.drop([\"activation_date\",\"image\"],axis=1,inplace=True)\n",
    "\n",
    "print(\"\\nEncode Variables\")\n",
    "categorical = [\"user_id\",\"region\",\"city\",\"parent_category_name\",\"category_name\",\"user_type\",\"image_top_1\",\"param_1\",\"param_2\",\"param_3\"]\n",
    "print(\"Encoding :\",categorical)\n",
    "\n",
    "# Encoder:\n",
    "lbl = preprocessing.LabelEncoder()\n",
    "for col in categorical:\n",
    "    df[col].fillna('Unknown')\n",
    "    df[col] = lbl.fit_transform(df[col].astype(str))\n",
    "    \n",
    "print(\"\\nText Features\")\n",
    "\n",
    "# Feature Engineering \n",
    "\n",
    "# Meta Text Features\n",
    "textfeats = [\"description\", \"title\"]\n",
    "df['desc_punc'] = df['description'].apply(lambda x: len([c for c in str(x) if c in string.punctuation]))\n",
    "\n",
    "df['title'] = df['title'].apply(lambda x: cleanName(x))\n",
    "df[\"description\"]   = df[\"description\"].apply(lambda x: cleanName(x))\n",
    "\n",
    "for cols in textfeats:\n",
    "    df[cols] = df[cols].astype(str) \n",
    "    df[cols] = df[cols].astype(str).fillna('missing') # FILL NA\n",
    "    df[cols] = df[cols].str.lower() # Lowercase all text, so that capitalized words dont get treated differently\n",
    "    df[cols + '_num_words'] = df[cols].apply(lambda comment: len(comment.split())) # Count number of Words\n",
    "    df[cols + '_num_unique_words'] = df[cols].apply(lambda comment: len(set(w for w in comment.split())))\n",
    "    df[cols + '_words_vs_unique'] = df[cols+'_num_unique_words'] / df[cols+'_num_words'] * 100 # Count Unique Words\n",
    "    \n",
    "\n",
    "print(\"\\n[TF-IDF] Term Frequency Inverse Document Frequency Stage\")\n",
    "russian_stop = set(stopwords.words('russian'))\n",
    "\n",
    "tfidf_para = {\n",
    "    \"stop_words\": russian_stop,\n",
    "    \"analyzer\": 'word',\n",
    "    \"token_pattern\": r'\\w{1,}',\n",
    "    \"sublinear_tf\": True,\n",
    "    \"dtype\": np.float32,\n",
    "    \"norm\": 'l2',\n",
    "    #\"min_df\":5,\n",
    "    #\"max_df\":.9,\n",
    "    \"smooth_idf\":False\n",
    "}\n",
    "\n",
    "\n",
    "def get_col(col_name): return lambda x: x[col_name]\n",
    "##I added to the max_features of the description. It did not change my score much but it may be worth investigating\n",
    "vectorizer = FeatureUnion([\n",
    "        ('description',TfidfVectorizer(\n",
    "            ngram_range=(1, 2),\n",
    "            max_features=17000,\n",
    "            **tfidf_para,\n",
    "            preprocessor=get_col('description'))),\n",
    "        ('title',CountVectorizer(\n",
    "            ngram_range=(1, 2),\n",
    "            stop_words = russian_stop,\n",
    "            #max_features=7000,\n",
    "            preprocessor=get_col('title')))\n",
    "    ])\n",
    "    \n",
    "start_vect=time.time()\n",
    "\n",
    "#Fit my vectorizer on the entire dataset instead of the training rows\n",
    "#Score improved by .0001\n",
    "vectorizer.fit(df.to_dict('records'))\n",
    "\n",
    "ready_df = vectorizer.transform(df.to_dict('records'))\n",
    "tfvocab = vectorizer.get_feature_names()\n",
    "print(\"Vectorization Runtime: %0.2f Minutes\"%((time.time() - start_vect)/60))\n",
    "\n",
    "# Drop Text Cols\n",
    "textfeats = [\"description\", \"title\"]\n",
    "df.drop(textfeats, axis=1,inplace=True)\n",
    "\n",
    "from sklearn.metrics import mean_squared_error\n",
    "from math import sqrt\n",
    "\n",
    "ridge_params = {'alpha':30.0, 'fit_intercept':True, 'normalize':False, 'copy_X':True,\n",
    "                'max_iter':None, 'tol':0.001, 'solver':'auto', 'random_state':SEED}\n",
    "\n",
    "#Ridge oof method from Faron's kernel\n",
    "#I was using this to analyze my vectorization, but figured it would be interesting to add the results back into the dataset\n",
    "#It doesn't really add much to the score, but it does help lightgbm converge faster\n",
    "ridge = SklearnWrapper(clf=Ridge, seed = SEED, params = ridge_params)\n",
    "ridge_oof_train, ridge_oof_test = get_oof(ridge, ready_df[:ntrain], y, ready_df[ntrain:])\n",
    "\n",
    "rms = sqrt(mean_squared_error(y, ridge_oof_train))\n",
    "print('Ridge OOF RMSE: {}'.format(rms))\n",
    "\n",
    "print(\"Modeling Stage\")\n",
    "\n",
    "ridge_preds = np.concatenate([ridge_oof_train, ridge_oof_test])\n",
    "\n",
    "df['ridge_preds'] = ridge_preds\n",
    "\n",
    "# Combine Dense Features with Sparse Text Bag of Words Features\n",
    "X = hstack([csr_matrix(df.loc[traindex,:].values),ready_df[0:traindex.shape[0]]]) # Sparse Matrix\n",
    "testing = hstack([csr_matrix(df.loc[testdex,:].values),ready_df[traindex.shape[0]:]])\n",
    "tfvocab = df.columns.tolist() + tfvocab\n",
    "for shape in [X,testing]:\n",
    "    print(\"{} Rows and {} Cols\".format(*shape.shape))\n",
    "print(\"Feature Names Length: \",len(tfvocab))\n",
    "del df\n",
    "gc.collect();\n",
    "\n",
    "print(\"\\nModeling Stage\")\n",
    "\n",
    "del ridge_preds,vectorizer,ready_df\n",
    "gc.collect();\n",
    "    \n",
    "print(\"Light Gradient Boosting Regressor\")\n",
    "lgbm_params =  {\n",
    "    'task': 'train',\n",
    "    'boosting_type': 'gbdt',\n",
    "    'objective': 'regression',\n",
    "    'metric': 'rmse',\n",
    "    # 'max_depth': 15,\n",
    "    'num_leaves': 270,\n",
    "    'feature_fraction': 0.5,\n",
    "    'bagging_fraction': 0.75,\n",
    "    'bagging_freq': 2,\n",
    "    'learning_rate': 0.016,\n",
    "    'verbose': 0\n",
    "}  \n",
    "\n",
    "\n",
    "if VALID == False:\n",
    "    X_train, X_valid, y_train, y_valid = train_test_split(\n",
    "        X, y, test_size=0.10, random_state=23)\n",
    "        \n",
    "    # LGBM Dataset Formatting \n",
    "    lgtrain = lgb.Dataset(X_train, y_train,\n",
    "                    feature_name=tfvocab,\n",
    "                    categorical_feature = categorical)\n",
    "    lgvalid = lgb.Dataset(X_valid, y_valid,\n",
    "                    feature_name=tfvocab,\n",
    "                    categorical_feature = categorical)\n",
    "    del X, X_train; gc.collect()\n",
    "    \n",
    "    # Go Go Go\n",
    "    lgb_clf = lgb.train(\n",
    "        lgbm_params,\n",
    "        lgtrain,\n",
    "        num_boost_round=20000,\n",
    "        valid_sets=[lgtrain, lgvalid],\n",
    "        valid_names=['train','valid'],\n",
    "        early_stopping_rounds=50,\n",
    "        verbose_eval=100\n",
    "    )\n",
    "    print(\"Model Evaluation Stage\")\n",
    "    print('RMSE:', np.sqrt(metrics.mean_squared_error(y_valid, lgb_clf.predict(X_valid))))\n",
    "    del X_valid ; gc.collect()\n",
    "\n",
    "else:\n",
    "    # LGBM Dataset Formatting \n",
    "    lgtrain = lgb.Dataset(X, y,\n",
    "                    feature_name=tfvocab,\n",
    "                    categorical_feature = categorical)\n",
    "    del X; gc.collect()\n",
    "    # Go Go Go\n",
    "    lgb_clf = lgb.train(\n",
    "        lgbm_params,\n",
    "        lgtrain,\n",
    "        num_boost_round=1550,\n",
    "        verbose_eval=100\n",
    "    )\n",
    "\n",
    "\n",
    "\n",
    "# Feature Importance Plot\n",
    "f, ax = plt.subplots(figsize=[7,10])\n",
    "lgb.plot_importance(lgb_clf, max_num_features=50, ax=ax)\n",
    "plt.title(\"Light GBM Feature Importance\")\n",
    "plt.savefig('feature_import.png')\n",
    "\n",
    "print(\"Model Evaluation Stage\")\n",
    "lgpred = lgb_clf.predict(testing) \n",
    "\n",
    "#Mixing lightgbm with ridge. I haven't really tested if this improves the score or not\n",
    "#blend = 0.95*lgpred + 0.05*ridge_oof_test[:,0]\n",
    "lgsub = pd.DataFrame(lgpred,columns=[\"deal_probability\"],index=testdex)\n",
    "lgsub['deal_probability'].clip(0.0, 1.0, inplace=True) # Between 0 and 1\n",
    "lgsub.to_csv(\"lgsub.csv\",index=True,header=True)\n",
    "#print(\"Model Runtime: %0.2f Minutes\"%((time.time() - modelstart)/60))\n",
    "print(\"Notebook Runtime: %0.2f Minutes\"%((time.time() - notebookstart)/60))"
   ]
  },
  {
   "cell_type": "code",
   "execution_count": 50,
   "metadata": {},
   "outputs": [
    {
     "data": {
      "text/plain": [
       "['train_active.csv.zip',\n",
       " 'train.csv',\n",
       " 'periods_test.csv',\n",
       " 'train_jpg_0.zip',\n",
       " 'train_active.csv',\n",
       " 'test_active.csv.zip',\n",
       " 'test_active.csv',\n",
       " 'periods_test.csv.zip',\n",
       " 'test.csv',\n",
       " 'train.csv.zip',\n",
       " 'periods_train.csv',\n",
       " 'test.csv.zip',\n",
       " 'periods_train.csv.zip']"
      ]
     },
     "execution_count": 50,
     "metadata": {},
     "output_type": "execute_result"
    }
   ],
   "source": [
    "os.listdir(\".kaggle/competitions/avito-demand-prediction/\")"
   ]
  },
  {
   "cell_type": "code",
   "execution_count": 1,
   "metadata": {
    "collapsed": true
   },
   "outputs": [],
   "source": [
    "import numpy as np\n",
    "import pandas as pd\n",
    "import math\n",
    "import time\n",
    "import os.path"
   ]
  },
  {
   "cell_type": "code",
   "execution_count": 12,
   "metadata": {
    "collapsed": true
   },
   "outputs": [],
   "source": [
    "d1=pd.read_csv('C:\\\\Users\\\\hluan\\\\Downloads\\\\subavito2_blend.csv')"
   ]
  },
  {
   "cell_type": "code",
   "execution_count": 13,
   "metadata": {
    "collapsed": true
   },
   "outputs": [],
   "source": [
    "d2=pd.read_csv('C:\\\\Users\\\\hluan\\\\Downloads\\\\submission.csv')"
   ]
  },
  {
   "cell_type": "code",
   "execution_count": 14,
   "metadata": {
    "collapsed": true
   },
   "outputs": [],
   "source": [
    "d2['deal_probability']=(d1['deal_probability']+d2['deal_probability'])/2"
   ]
  },
  {
   "cell_type": "code",
   "execution_count": 15,
   "metadata": {
    "collapsed": true
   },
   "outputs": [],
   "source": [
    "d1['deal_probability']=(d1['deal_probability']+d2['deal_probability'])/2"
   ]
  },
  {
   "cell_type": "code",
   "execution_count": 16,
   "metadata": {
    "collapsed": true
   },
   "outputs": [],
   "source": [
    "d2['deal_probability']=(d1['deal_probability']+d2['deal_probability'])/2"
   ]
  },
  {
   "cell_type": "code",
   "execution_count": 17,
   "metadata": {
    "collapsed": true
   },
   "outputs": [],
   "source": [
    "d1['deal_probability']=(d1['deal_probability']+d2['deal_probability'])/2"
   ]
  },
  {
   "cell_type": "code",
   "execution_count": 18,
   "metadata": {
    "collapsed": true
   },
   "outputs": [],
   "source": [
    "d2['deal_probability']=(d1['deal_probability']+d2['deal_probability'])/2"
   ]
  },
  {
   "cell_type": "code",
   "execution_count": 19,
   "metadata": {
    "collapsed": true
   },
   "outputs": [],
   "source": [
    "d1['deal_probability']=(d1['deal_probability']+d2['deal_probability'])/2"
   ]
  },
  {
   "cell_type": "code",
   "execution_count": 20,
   "metadata": {
    "collapsed": true
   },
   "outputs": [],
   "source": [
    "d2['deal_probability']=(d1['deal_probability']+d2['deal_probability'])/2"
   ]
  },
  {
   "cell_type": "code",
   "execution_count": 21,
   "metadata": {
    "collapsed": true
   },
   "outputs": [],
   "source": [
    "d2.to_csv(\"submissionavito.csv\", index=False)"
   ]
  },
  {
   "cell_type": "code",
   "execution_count": null,
   "metadata": {
    "collapsed": true
   },
   "outputs": [],
   "source": []
  }
 ],
 "metadata": {
  "kernelspec": {
   "display_name": "Python 3",
   "language": "python",
   "name": "python3"
  },
  "language_info": {
   "codemirror_mode": {
    "name": "ipython",
    "version": 3
   },
   "file_extension": ".py",
   "mimetype": "text/x-python",
   "name": "python",
   "nbconvert_exporter": "python",
   "pygments_lexer": "ipython3",
   "version": "3.6.1"
  }
 },
 "nbformat": 4,
 "nbformat_minor": 2
}
